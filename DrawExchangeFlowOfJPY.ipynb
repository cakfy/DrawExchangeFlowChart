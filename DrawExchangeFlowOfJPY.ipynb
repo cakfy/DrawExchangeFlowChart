{
 "cells": [
  {
   "cell_type": "code",
   "execution_count": 4,
   "metadata": {
    "collapsed": false,
    "deletable": true,
    "editable": true
   },
   "outputs": [
    {
     "data": {
      "text/html": [
       "<div>\n",
       "<table border=\"1\" class=\"dataframe\">\n",
       "  <thead>\n",
       "    <tr style=\"text-align: right;\">\n",
       "      <th></th>\n",
       "      <th>資料日期</th>\n",
       "      <th>幣別</th>\n",
       "      <th>匯率</th>\n",
       "      <th>現金</th>\n",
       "      <th>即期</th>\n",
       "      <th>遠期10天</th>\n",
       "      <th>遠期30天</th>\n",
       "      <th>遠期60天</th>\n",
       "      <th>遠期90天</th>\n",
       "      <th>遠期120天</th>\n",
       "      <th>...</th>\n",
       "      <th>匯率.1</th>\n",
       "      <th>現金.1</th>\n",
       "      <th>即期.1</th>\n",
       "      <th>遠期10天.1</th>\n",
       "      <th>遠期30天.1</th>\n",
       "      <th>遠期60天.1</th>\n",
       "      <th>遠期90天.1</th>\n",
       "      <th>遠期120天.1</th>\n",
       "      <th>遠期150天.1</th>\n",
       "      <th>遠期180天.1</th>\n",
       "    </tr>\n",
       "  </thead>\n",
       "  <tbody>\n",
       "    <tr>\n",
       "      <th>20170310</th>\n",
       "      <td>JPY</td>\n",
       "      <td>本行買入</td>\n",
       "      <td>0.2609</td>\n",
       "      <td>0.2673</td>\n",
       "      <td>0.2673</td>\n",
       "      <td>0.2673</td>\n",
       "      <td>0.2673</td>\n",
       "      <td>0.2673</td>\n",
       "      <td>0.2673</td>\n",
       "      <td>0.2673</td>\n",
       "      <td>...</td>\n",
       "      <td>0.2719</td>\n",
       "      <td>0.2713</td>\n",
       "      <td>0.2714</td>\n",
       "      <td>0.2716</td>\n",
       "      <td>0.2716</td>\n",
       "      <td>0.2716</td>\n",
       "      <td>0.2716</td>\n",
       "      <td>0.2717</td>\n",
       "      <td>0.2718</td>\n",
       "      <td>NaN</td>\n",
       "    </tr>\n",
       "    <tr>\n",
       "      <th>20170309</th>\n",
       "      <td>JPY</td>\n",
       "      <td>本行買入</td>\n",
       "      <td>0.2626</td>\n",
       "      <td>0.2690</td>\n",
       "      <td>0.2690</td>\n",
       "      <td>0.2690</td>\n",
       "      <td>0.2690</td>\n",
       "      <td>0.2690</td>\n",
       "      <td>0.2690</td>\n",
       "      <td>0.2690</td>\n",
       "      <td>...</td>\n",
       "      <td>0.2736</td>\n",
       "      <td>0.2730</td>\n",
       "      <td>0.2731</td>\n",
       "      <td>0.2733</td>\n",
       "      <td>0.2733</td>\n",
       "      <td>0.2733</td>\n",
       "      <td>0.2734</td>\n",
       "      <td>0.2735</td>\n",
       "      <td>0.2736</td>\n",
       "      <td>NaN</td>\n",
       "    </tr>\n",
       "    <tr>\n",
       "      <th>20170308</th>\n",
       "      <td>JPY</td>\n",
       "      <td>本行買入</td>\n",
       "      <td>0.2628</td>\n",
       "      <td>0.2692</td>\n",
       "      <td>0.2692</td>\n",
       "      <td>0.2692</td>\n",
       "      <td>0.2692</td>\n",
       "      <td>0.2692</td>\n",
       "      <td>0.2692</td>\n",
       "      <td>0.2692</td>\n",
       "      <td>...</td>\n",
       "      <td>0.2738</td>\n",
       "      <td>0.2732</td>\n",
       "      <td>0.2733</td>\n",
       "      <td>0.2735</td>\n",
       "      <td>0.2735</td>\n",
       "      <td>0.2735</td>\n",
       "      <td>0.2736</td>\n",
       "      <td>0.2737</td>\n",
       "      <td>0.2737</td>\n",
       "      <td>NaN</td>\n",
       "    </tr>\n",
       "    <tr>\n",
       "      <th>20170307</th>\n",
       "      <td>JPY</td>\n",
       "      <td>本行買入</td>\n",
       "      <td>0.2628</td>\n",
       "      <td>0.2692</td>\n",
       "      <td>0.2692</td>\n",
       "      <td>0.2692</td>\n",
       "      <td>0.2692</td>\n",
       "      <td>0.2692</td>\n",
       "      <td>0.2692</td>\n",
       "      <td>0.2692</td>\n",
       "      <td>...</td>\n",
       "      <td>0.2738</td>\n",
       "      <td>0.2732</td>\n",
       "      <td>0.2733</td>\n",
       "      <td>0.2735</td>\n",
       "      <td>0.2735</td>\n",
       "      <td>0.2735</td>\n",
       "      <td>0.2736</td>\n",
       "      <td>0.2737</td>\n",
       "      <td>0.2738</td>\n",
       "      <td>NaN</td>\n",
       "    </tr>\n",
       "    <tr>\n",
       "      <th>20170306</th>\n",
       "      <td>JPY</td>\n",
       "      <td>本行買入</td>\n",
       "      <td>0.2639</td>\n",
       "      <td>0.2703</td>\n",
       "      <td>0.2703</td>\n",
       "      <td>0.2703</td>\n",
       "      <td>0.2702</td>\n",
       "      <td>0.2703</td>\n",
       "      <td>0.2702</td>\n",
       "      <td>0.2702</td>\n",
       "      <td>...</td>\n",
       "      <td>0.2749</td>\n",
       "      <td>0.2743</td>\n",
       "      <td>0.2744</td>\n",
       "      <td>0.2746</td>\n",
       "      <td>0.2746</td>\n",
       "      <td>0.2745</td>\n",
       "      <td>0.2746</td>\n",
       "      <td>0.2748</td>\n",
       "      <td>0.2749</td>\n",
       "      <td>NaN</td>\n",
       "    </tr>\n",
       "  </tbody>\n",
       "</table>\n",
       "<p>5 rows × 22 columns</p>\n",
       "</div>"
      ],
      "text/plain": [
       "         資料日期    幣別      匯率      現金      即期   遠期10天   遠期30天   遠期60天   遠期90天  \\\n",
       "20170310  JPY  本行買入  0.2609  0.2673  0.2673  0.2673  0.2673  0.2673  0.2673   \n",
       "20170309  JPY  本行買入  0.2626  0.2690  0.2690  0.2690  0.2690  0.2690  0.2690   \n",
       "20170308  JPY  本行買入  0.2628  0.2692  0.2692  0.2692  0.2692  0.2692  0.2692   \n",
       "20170307  JPY  本行買入  0.2628  0.2692  0.2692  0.2692  0.2692  0.2692  0.2692   \n",
       "20170306  JPY  本行買入  0.2639  0.2703  0.2703  0.2703  0.2702  0.2703  0.2702   \n",
       "\n",
       "          遠期120天    ...       匯率.1    現金.1    即期.1  遠期10天.1  遠期30天.1  遠期60天.1  \\\n",
       "20170310  0.2673    ...     0.2719  0.2713  0.2714   0.2716   0.2716   0.2716   \n",
       "20170309  0.2690    ...     0.2736  0.2730  0.2731   0.2733   0.2733   0.2733   \n",
       "20170308  0.2692    ...     0.2738  0.2732  0.2733   0.2735   0.2735   0.2735   \n",
       "20170307  0.2692    ...     0.2738  0.2732  0.2733   0.2735   0.2735   0.2735   \n",
       "20170306  0.2702    ...     0.2749  0.2743  0.2744   0.2746   0.2746   0.2745   \n",
       "\n",
       "          遠期90天.1  遠期120天.1  遠期150天.1  遠期180天.1  \n",
       "20170310   0.2716    0.2717    0.2718       NaN  \n",
       "20170309   0.2734    0.2735    0.2736       NaN  \n",
       "20170308   0.2736    0.2737    0.2737       NaN  \n",
       "20170307   0.2736    0.2737    0.2738       NaN  \n",
       "20170306   0.2746    0.2748    0.2749       NaN  \n",
       "\n",
       "[5 rows x 22 columns]"
      ]
     },
     "execution_count": 4,
     "metadata": {},
     "output_type": "execute_result"
    }
   ],
   "source": [
    "import pandas\n",
    "df = pandas.read_csv('ExchangeRate@201703101601.csv')\n",
    "#show few rows to check data\n",
    "df.head()"
   ]
  },
  {
   "cell_type": "code",
   "execution_count": 7,
   "metadata": {
    "collapsed": false,
    "deletable": true,
    "editable": true
   },
   "outputs": [
    {
     "name": "stdout",
     "output_type": "stream",
     "text": [
      "<class 'pandas.core.frame.DataFrame'>\n",
      "Int64Index: 119 entries, 20170310 to 20160913\n",
      "Data columns (total 22 columns):\n",
      "資料日期        119 non-null object\n",
      "幣別          119 non-null object\n",
      "匯率          119 non-null float64\n",
      "現金          119 non-null float64\n",
      "即期          119 non-null float64\n",
      "遠期10天       119 non-null float64\n",
      "遠期30天       119 non-null float64\n",
      "遠期60天       119 non-null float64\n",
      "遠期90天       119 non-null float64\n",
      "遠期120天      119 non-null float64\n",
      "遠期150天      119 non-null float64\n",
      "遠期180天      119 non-null object\n",
      "匯率.1        119 non-null float64\n",
      "現金.1        119 non-null float64\n",
      "即期.1        119 non-null float64\n",
      "遠期10天.1     119 non-null float64\n",
      "遠期30天.1     119 non-null float64\n",
      "遠期60天.1     119 non-null float64\n",
      "遠期90天.1     119 non-null float64\n",
      "遠期120天.1    119 non-null float64\n",
      "遠期150天.1    119 non-null float64\n",
      "遠期180天.1    0 non-null float64\n",
      "dtypes: float64(19), object(3)\n",
      "memory usage: 20.0+ KB\n"
     ]
    }
   ],
   "source": [
    "df.info()"
   ]
  },
  {
   "cell_type": "code",
   "execution_count": 30,
   "metadata": {
    "collapsed": false,
    "deletable": true,
    "editable": true
   },
   "outputs": [],
   "source": [
    "df.index = pandas.to_datetime(df.index, format='%Y%m%d')"
   ]
  },
  {
   "cell_type": "code",
   "execution_count": 32,
   "metadata": {
    "collapsed": false,
    "deletable": true,
    "editable": true,
    "scrolled": true
   },
   "outputs": [
    {
     "name": "stdout",
     "output_type": "stream",
     "text": [
      "<class 'pandas.core.frame.DataFrame'>\n",
      "DatetimeIndex: 119 entries, 2017-03-10 to 2016-09-13\n",
      "Data columns (total 22 columns):\n",
      "資料日期        119 non-null object\n",
      "幣別          119 non-null object\n",
      "匯率          119 non-null float64\n",
      "現金          119 non-null float64\n",
      "即期          119 non-null float64\n",
      "遠期10天       119 non-null float64\n",
      "遠期30天       119 non-null float64\n",
      "遠期60天       119 non-null float64\n",
      "遠期90天       119 non-null float64\n",
      "遠期120天      119 non-null float64\n",
      "遠期150天      119 non-null float64\n",
      "遠期180天      119 non-null object\n",
      "匯率.1        119 non-null float64\n",
      "現金.1        119 non-null float64\n",
      "即期.1        119 non-null float64\n",
      "遠期10天.1     119 non-null float64\n",
      "遠期30天.1     119 non-null float64\n",
      "遠期60天.1     119 non-null float64\n",
      "遠期90天.1     119 non-null float64\n",
      "遠期120天.1    119 non-null float64\n",
      "遠期150天.1    119 non-null float64\n",
      "遠期180天.1    0 non-null float64\n",
      "dtypes: float64(19), object(3)\n",
      "memory usage: 20.0+ KB\n"
     ]
    }
   ],
   "source": [
    "df.info()"
   ]
  },
  {
   "cell_type": "code",
   "execution_count": 34,
   "metadata": {
    "collapsed": false,
    "deletable": true,
    "editable": true
   },
   "outputs": [
    {
     "name": "stdout",
     "output_type": "stream",
     "text": [
      "Populating the interactive namespace from numpy and matplotlib\n"
     ]
    }
   ],
   "source": [
    "%pylab inline"
   ]
  },
  {
   "cell_type": "code",
   "execution_count": 41,
   "metadata": {
    "collapsed": false,
    "deletable": true,
    "editable": true,
    "scrolled": true
   },
   "outputs": [
    {
     "data": {
      "text/plain": [
       "<matplotlib.axes._subplots.AxesSubplot at 0x86dd390>"
      ]
     },
     "execution_count": 41,
     "metadata": {},
     "output_type": "execute_result"
    },
    {
     "data": {
      "image/png": "[encoded data removed]",
      "text/plain": [
       "<matplotlib.figure.Figure at 0x8728970>"
      ]
     },
     "metadata": {},
     "output_type": "display_data"
    }
   ],
   "source": [
    "df.plot(kind='line', y= [\"匯率\", \"現金\"])"
   ]
  },
  {
   "cell_type": "code",
   "execution_count": 1,
   "metadata": {
    "collapsed": false
   },
   "outputs": [
    {
     "ename": "NameError",
     "evalue": "name 'df' is not defined",
     "output_type": "error",
     "traceback": [
      "\u001b[1;31m---------------------------------------------------------------------------\u001b[0m",
      "\u001b[1;31mNameError\u001b[0m                                 Traceback (most recent call last)",
      "\u001b[1;32m<ipython-input-1-d57a54818e49>\u001b[0m in \u001b[0;36m<module>\u001b[1;34m()\u001b[0m\n\u001b[1;32m----> 1\u001b[1;33m \u001b[0mtype\u001b[0m\u001b[1;33m(\u001b[0m\u001b[0mdf\u001b[0m\u001b[1;33m)\u001b[0m\u001b[1;33m\u001b[0m\u001b[0m\n\u001b[0m",
      "\u001b[1;31mNameError\u001b[0m: name 'df' is not defined"
     ]
    }
   ],
   "source": [
    "#just a comment"
   ]
  }
 ],
 "metadata": {
  "kernelspec": {
   "display_name": "Python 3",
   "language": "python",
   "name": "python3"
  },
  "language_info": {
   "codemirror_mode": {
    "name": "ipython",
    "version": 3
   },
   "file_extension": ".py",
   "mimetype": "text/x-python",
   "name": "python",
   "nbconvert_exporter": "python",
   "pygments_lexer": "ipython3",
   "version": "3.6.0"
  }
 },
 "nbformat": 4,
 "nbformat_minor": 2
}
